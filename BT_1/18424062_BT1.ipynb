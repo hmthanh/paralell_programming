{
 "cells": [
  {
   "cell_type": "markdown",
   "metadata": {
    "colab_type": "text",
    "id": "XFEzNQBb2wHF"
   },
   "source": [
    "# Bài tập 1 : Bài toán cộng hai vector\n",
    "**Thông tin sinh viên** :\n",
    "\n",
    "Hoàng Minh Thanh (18424062)\n",
    "\n",
    "Jupyter notebook (Online) : https://colab.research.google.com/drive/1ZWDRaKeq9D4uJj2D1x11VXML0vpjpPDD?usp=sharing"
   ]
  },
  {
   "cell_type": "markdown",
   "metadata": {
    "colab_type": "text",
    "id": "YF4ioW3H7k_Y"
   },
   "source": [
    "# 1. Cài đặt chương trình"
   ]
  },
  {
   "cell_type": "markdown",
   "metadata": {
    "colab_type": "text",
    "id": "lT4rdCRg2Xv2"
   },
   "source": [
    "### 1.1 Cài đặt CUDA"
   ]
  },
  {
   "cell_type": "code",
   "execution_count": null,
   "metadata": {
    "colab": {
     "base_uri": "https://localhost:8080/",
     "height": 85
    },
    "colab_type": "code",
    "executionInfo": {
     "elapsed": 5306,
     "status": "ok",
     "timestamp": 1593272155072,
     "user": {
      "displayName": "Minh-Thanh Hoang",
      "photoUrl": "https://lh3.googleusercontent.com/a-/AOh14GhqPSUYCvHc3LkwVAJfQ6l30uLK9J_imUy6dXfgiA=s64",
      "userId": "05223329810360125921"
     },
     "user_tz": -420
    },
    "id": "lflYvWi_18A7",
    "outputId": "17509884-f306-4e29-9d86-0bff64f61e2d"
   },
   "outputs": [
    {
     "name": "stdout",
     "output_type": "stream",
     "text": [
      "nvcc: NVIDIA (R) Cuda compiler driver\n",
      "Copyright (c) 2005-2019 NVIDIA Corporation\n",
      "Built on Sun_Jul_28_19:07:16_PDT_2019\n",
      "Cuda compilation tools, release 10.1, V10.1.243\n"
     ]
    }
   ],
   "source": [
    "!nvcc --version"
   ]
  },
  {
   "cell_type": "code",
   "execution_count": null,
   "metadata": {
    "colab": {
     "base_uri": "https://localhost:8080/",
     "height": 187
    },
    "colab_type": "code",
    "executionInfo": {
     "elapsed": 7729,
     "status": "ok",
     "timestamp": 1593272251810,
     "user": {
      "displayName": "Minh-Thanh Hoang",
      "photoUrl": "https://lh3.googleusercontent.com/a-/AOh14GhqPSUYCvHc3LkwVAJfQ6l30uLK9J_imUy6dXfgiA=s64",
      "userId": "05223329810360125921"
     },
     "user_tz": -420
    },
    "id": "IkSmNRuv794i",
    "outputId": "b01e84e4-3af1-430f-b99d-c249ce543e89"
   },
   "outputs": [
    {
     "name": "stdout",
     "output_type": "stream",
     "text": [
      "Collecting git+git://github.com/andreinechaev/nvcc4jupyter.git\n",
      "  Cloning git://github.com/andreinechaev/nvcc4jupyter.git to /tmp/pip-req-build-ngf5w1t3\n",
      "  Running command git clone -q git://github.com/andreinechaev/nvcc4jupyter.git /tmp/pip-req-build-ngf5w1t3\n",
      "Building wheels for collected packages: NVCCPlugin\n",
      "  Building wheel for NVCCPlugin (setup.py) ... \u001b[?25l\u001b[?25hdone\n",
      "  Created wheel for NVCCPlugin: filename=NVCCPlugin-0.0.2-cp36-none-any.whl size=4307 sha256=0a1d4191fc740353c1fc4238ba375d05dd202df3a42a44194d5441ff4aade149\n",
      "  Stored in directory: /tmp/pip-ephem-wheel-cache-hm6zqpew/wheels/10/c2/05/ca241da37bff77d60d31a9174f988109c61ba989e4d4650516\n",
      "Successfully built NVCCPlugin\n",
      "Installing collected packages: NVCCPlugin\n",
      "Successfully installed NVCCPlugin-0.0.2\n"
     ]
    }
   ],
   "source": [
    "!pip install git+git://github.com/andreinechaev/nvcc4jupyter.git"
   ]
  },
  {
   "cell_type": "code",
   "execution_count": null,
   "metadata": {
    "colab": {
     "base_uri": "https://localhost:8080/",
     "height": 51
    },
    "colab_type": "code",
    "executionInfo": {
     "elapsed": 1382,
     "status": "ok",
     "timestamp": 1593272540686,
     "user": {
      "displayName": "Minh-Thanh Hoang",
      "photoUrl": "https://lh3.googleusercontent.com/a-/AOh14GhqPSUYCvHc3LkwVAJfQ6l30uLK9J_imUy6dXfgiA=s64",
      "userId": "05223329810360125921"
     },
     "user_tz": -420
    },
    "id": "5rBsO3vn8Bap",
    "outputId": "7f93837f-1f1f-45f1-9ebf-1f4822553bab"
   },
   "outputs": [
    {
     "name": "stdout",
     "output_type": "stream",
     "text": [
      "created output directory at /content/src\n",
      "Out bin /content/result.out\n"
     ]
    }
   ],
   "source": [
    "%load_ext nvcc_plugin"
   ]
  },
  {
   "cell_type": "markdown",
   "metadata": {
    "colab_type": "text",
    "id": "UfRbHHPLOGR0"
   },
   "source": [
    "### 1.2 Viết chương trình chạy code cộng hai vector"
   ]
  },
  {
   "cell_type": "code",
   "execution_count": 2,
   "metadata": {
    "colab": {
     "base_uri": "https://localhost:8080/",
     "height": 238
    },
    "colab_type": "code",
    "executionInfo": {
     "elapsed": 1779,
     "status": "ok",
     "timestamp": 1593149334964,
     "user": {
      "displayName": "Minh-Thanh Hoang",
      "photoUrl": "https://lh3.googleusercontent.com/a-/AOh14GhqPSUYCvHc3LkwVAJfQ6l30uLK9J_imUy6dXfgiA=s64",
      "userId": "05223329810360125921"
     },
     "user_tz": -420
    },
    "id": "jQaNUnaMTQEJ",
    "outputId": "cf89f215-e826-459a-8d97-fbc7393e9731"
   },
   "outputs": [
    {
     "name": "stderr",
     "output_type": "stream",
     "text": [
      "UsageError: Cell magic `%%cu` not found.\n"
     ]
    }
   ],
   "source": [
    "%%cu\n",
    "#include <stdio.h>\n",
    "#include <stdlib.h>\n",
    "#include <cuda_runtime.h>\n",
    "#include <sys/time.h>\n",
    "\n",
    "using namespace std;\n",
    "\n",
    "const unsigned int RANDOM_MAX = 10;\n",
    "const unsigned int BLOCK_SIZE = 512;\n",
    "\n",
    "// ############### COMMON ###############\n",
    "#define CHECK(call)                                                        \\\n",
    "{                                                                          \\\n",
    "    const cudaError_t error = call;                                        \\\n",
    "    if (error != cudaSuccess)                                              \\\n",
    "    {                                                                      \\\n",
    "        printf(\"Error: %s:%d, \", __FILE__, __LINE__);                      \\\n",
    "        printf(\"code:%d, reason: %s\\n\", error, cudaGetErrorString(error)); \\\n",
    "        exit(1);                                                           \\\n",
    "    }                                                                      \\\n",
    "}\n",
    "\n",
    "inline double seconds()\n",
    "{\n",
    "    struct timeval tp;\n",
    "    struct timezone tzp;\n",
    "    int i = gettimeofday(&tp, &tzp);\n",
    "    return ((double)tp.tv_sec + (double)tp.tv_usec * 1.e-6);\n",
    "}\n",
    "\n",
    "void initialVector(int *vector, int size)\n",
    "{\n",
    "    srand(0);\n",
    "    for (int i = 0; i < size; i++)\n",
    "    {\n",
    "        vector[i] = (int)(rand()) / RANDOM_MAX;\n",
    "    }\n",
    "}\n",
    "\n",
    "void sumOnHost(int *in1, int *in2, int *out, int size){\n",
    "    for (int i = 0; i < size; i++){\n",
    "        out[i] = in1[i] + in2[i];\n",
    "    }\n",
    "}\n",
    "\n",
    "// ############### Device(CPU) ###############\n",
    "// Hàm thực hiện reduce trên CPU\n",
    "__global__ void sumOnDeviceWithoutStream(int *in1, int *in2, int *out, int size){\n",
    "    unsigned int idx = threadIdx.x + blockDim.x * blockIdx.x;\n",
    "\n",
    "    if (idx < size){\n",
    "        out[idx] = in1[idx] + in2[idx];\n",
    "    }\n",
    "}\n",
    "\n",
    "__global__ void sumOnDevice2Stream(int *in1, int *in2, int *out, int size){\n",
    "    unsigned int idx = threadIdx.x + blockDim.x * blockIdx.x;\n",
    "\n",
    "    if (idx < size){\n",
    "        out[idx] = in1[idx] + in2[idx];\n",
    "    }\n",
    "}\n",
    "\n",
    "\n",
    "__global__ void sumOnDevice3Stream(int *in1, int *in2, int *out, int size){\n",
    "    unsigned int idx = threadIdx.x + blockDim.x * blockIdx.x;\n",
    "\n",
    "    if (idx < size){\n",
    "        out[idx] = in1[idx] + in2[idx];\n",
    "    }\n",
    "}\n",
    "\n",
    "int main()\n",
    "{\n",
    "    printf(\"############ THÔNG TIN GPU ############\\n\");\n",
    "    // Chọn GPU thực thi câu lệnh    \n",
    "    int dev = 0;\n",
    "    cudaDeviceProp deviceProp;\n",
    "    CHECK(cudaGetDeviceProperties(&deviceProp, dev));\n",
    "    printf(\"Device %d: %s \\n\", dev, deviceProp.name);\n",
    "    CHECK(cudaSetDevice(dev));\n",
    "\n",
    "    // Khởi tạo kích thước vector\n",
    "    unsigned int size = 1 << 24; // 2^24\n",
    "    int *vec1, *vec2, *out;\n",
    "    size_t nBytes = size * sizeof(int);\n",
    "    vec1 = (int *) malloc(nBytes);\n",
    "    vec2 = (int *) malloc(nBytes);\n",
    "    out = (int *) malloc(nBytes);\n",
    "    \n",
    "    initialVector(vec1, size);\n",
    "    initialVector(vec2, size);\n",
    "    printf(\"Kích thước mảng : %d\\n\", size);\n",
    "\n",
    "    // Cấp phát bộ nhớ trên device (GPU)\n",
    "    int *d_vec1 = NULL, *d_vec2 = NULL, *d_out = NULL;\n",
    "    CHECK(cudaMalloc(&d_vec1, nBytes));\n",
    "    CHECK(cudaMalloc(&d_vec2, nBytes));\n",
    "    CHECK(cudaMalloc(&d_out, nBytes));\n",
    "\n",
    "    // Kernel được cấu hình với 1D grid và 1D blocks\n",
    "    dim3 blockSize (BLOCK_SIZE);\n",
    "    dim3 gridSize  ((size - 1) / blockSize.x + 1);\n",
    "    printf(\"Kích thước : <<<Grid (%d, %d), Block (%d, %d)>>>\\n\", blockSize.x, blockSize.y, gridSize.x, gridSize.y);\n",
    "\n",
    "    // Biến tính thời gian chạy\n",
    "    double iStart, iElaps;\n",
    "    \n",
    "    printf(\"ID| Kernel\\t\\t|Time \\t\\t| Sum result \\n\");\n",
    "    // ############ 1. sumOnHost #############\n",
    "    iStart = seconds();\n",
    "    sumOnHost(vec1, vec2, out, size);\n",
    "    iElaps = seconds() - iStart;\n",
    "    printf(\"1 | sumOnHost \\t\\t| %f sec\\t| %f\\t\\n\", iElaps);\n",
    "\n",
    "    // ############ 2. sumOnDeviceWithoutStream #############\n",
    "    iStart = seconds();\n",
    "    // Copy inputs to device\n",
    "    cudaMemcpy(d_vec1, vec1, nBytes, cudaMemcpyHostToDevice);\n",
    "    cudaMemcpy(d_vec2, vec2, nBytes, cudaMemcpyHostToDevice);\n",
    "\n",
    "    sumOnDeviceWithoutStream<<<gridSize, blockSize,0, 0>>>(d_vec1, d_vec2, d_out, size);\n",
    "    cudaMemcpy(out, d_out, nBytes, cudaMemcpyDeviceToHost);\n",
    "    iElaps = seconds() - iStart;\n",
    "    printf(\"2 | sumOnDeviceWithoutStream \\t\\t| %f sec\\t| %f\\t\\n\", iElaps);\n",
    "\n",
    "    // ############ 2. sumOnDevice2Stream #############\n",
    "    cudaStream_t stream;\n",
    "    cudaStreamCreate(stream);\n",
    "    iStart = seconds();\n",
    "    sumOnDevice2Stream<<<gridSize, blockSize, 0, stream>>>(d_vec1, d_vec2, d_out, size);\n",
    "    cudaMemcpy(out, d_out, nBytes, cudaMemcpyDeviceToHost);\n",
    "    iElaps = seconds() - iStart;\n",
    "    cudaStreamDestroy(stream);\n",
    "    printf(\"3 | sumOnDevice2Stream \\t\\t| %f sec\\t| %f\\t\\n\", iElaps);\n",
    "\n",
    "    // free device memory\n",
    "    CHECK(cudaFree(d_vec1));\n",
    "    CHECK(cudaFree(d_vec2));\n",
    "    CHECK(cudaFree(d_out));\n",
    "\n",
    "    // free host memory\n",
    "    free(vec1);\n",
    "    free(vec2);\n",
    "    free(out);\n",
    "\n",
    "    // reset device\n",
    "    CHECK(cudaDeviceReset());\n",
    "\n",
    "    return 0;\n",
    "}"
   ]
  },
  {
   "cell_type": "markdown",
   "metadata": {
    "colab_type": "text",
    "id": "8RZf44zeyIQv"
   },
   "source": [
    "### 1.3 Cài đặt phương đo tốc độ cộng hai vector theo kích thước mảng\n",
    "\n",
    "Trên là ta đã thử xây dựng chương trình tính tổng hai vector\n",
    "\n",
    "Dưới đây ta sẽ xây dựng bảng để có thể so sánh dễ hơn"
   ]
  },
  {
   "cell_type": "code",
   "execution_count": null,
   "metadata": {
    "colab": {
     "base_uri": "https://localhost:8080/",
     "height": 238
    },
    "colab_type": "code",
    "executionInfo": {
     "elapsed": 6642,
     "status": "ok",
     "timestamp": 1593149372044,
     "user": {
      "displayName": "Minh-Thanh Hoang",
      "photoUrl": "https://lh3.googleusercontent.com/a-/AOh14GhqPSUYCvHc3LkwVAJfQ6l30uLK9J_imUy6dXfgiA=s64",
      "userId": "05223329810360125921"
     },
     "user_tz": -420
    },
    "id": "HtfLazcCTitf",
    "outputId": "cb4dbb28-1d64-4a6d-cf4f-e790ba6b8fb3"
   },
   "outputs": [
    {
     "name": "stdout",
     "output_type": "stream",
     "text": [
      "|Size\t\t|Host\t\t|Device\t|\n",
      "|64 ms\t\t|0 ms\t\t|35 ms\t\t|\n",
      "|256 ms\t\t|0 ms\t\t|23 ms\t\t|\n",
      "|1024 ms\t\t|2 ms\t\t|26 ms\t\t|\n",
      "|4096 ms\t\t|12 ms\t\t|26 ms\t\t|\n",
      "|16384 ms\t\t|50 ms\t\t|39 ms\t\t|\n",
      "|65536 ms\t\t|214 ms\t\t|94 ms\t\t|\n",
      "|262144 ms\t\t|851 ms\t\t|318 ms\t\t|\n",
      "|1048576 ms\t\t|3462 ms\t\t|867 ms\t\t|\n",
      "|4194304 ms\t\t|19048 ms\t\t|3471 ms\t\t|\n",
      "|16777216 ms\t\t|83563 ms\t\t|13723 ms\t\t|\n",
      "|67108864 ms\t\t|317027 ms\t\t|54897 ms\t\t|\n",
      "\n"
     ]
    }
   ],
   "source": [
    "%%cu\n",
    "#include <stdio.h>\n",
    "#include <stdlib.h>\n",
    "#include <chrono>\n",
    "#include <vector>\n",
    "\n",
    "using namespace std::chrono; \n",
    "using namespace std;\n",
    "\n",
    "__global__ void addVecOnDevice(float *vec1, float *vec2, float *out, int n)\n",
    "{\n",
    "    int i = blockIdx.x * blockDim.x + threadIdx.x;\n",
    "\n",
    "    if (i < n)\n",
    "    {\n",
    "        out[i] = vec1[i] + vec2[i];\n",
    "    }\n",
    "}\n",
    "\n",
    "void addVecOnHost(float *in1, float *in2, float *out, int n)\n",
    "{\n",
    "    for (int i = 0; i < n; i++)\n",
    "        out[i] = in1[i] + in2[i];\n",
    "}\n",
    "\n",
    "void calcTimeWithNSize(int n)\n",
    "{\n",
    "    float *vec1, *vec2; // input vector\n",
    "    float *out; // output vector\n",
    "\n",
    "    vec1 = (float *)malloc(n * sizeof(float));\n",
    "    vec2 = (float *)malloc(n * sizeof(float));\n",
    "    out = (float *)malloc(n * sizeof(float));\n",
    "\n",
    "    // Setup input values\n",
    "    srand(time(0));\n",
    "    for (int i = 0; i < n; i++)\n",
    "    {\n",
    "        vec1[i] = static_cast<float>(rand())/static_cast<float>(RAND_MAX);\n",
    "        vec2[i] = static_cast<float>(rand())/static_cast<float>(RAND_MAX);\n",
    "    }\n",
    "\n",
    "    // Allocate vector to device memory\n",
    "    float *d_vec1, *d_vec2, *d_out;\n",
    "    cudaMalloc(&d_vec1, n * sizeof(float));\n",
    "    cudaMalloc(&d_vec2, n * sizeof(float));\n",
    "    cudaMalloc(&d_out, n * sizeof(float));\n",
    "\n",
    "    // Copy inputs to device\n",
    "    cudaMemcpy(d_vec1, vec1, n * sizeof(float), cudaMemcpyHostToDevice);\n",
    "    cudaMemcpy(d_vec2, vec2, n * sizeof(float), cudaMemcpyHostToDevice);\n",
    "\n",
    "    // Launch add() kernel on GPU\n",
    "    dim3 blockSize(256);\n",
    "    dim3 gridSize((n - 1) / blockSize.x + 1);\n",
    " \n",
    "    auto start_host = high_resolution_clock::now();\n",
    "    addVecOnHost(vec1,vec2, out, n);\n",
    "    auto stop_host = high_resolution_clock::now();\n",
    "    auto duration_host = duration_cast<microseconds>(stop_host - start_host);\n",
    "\n",
    "    auto start_device = high_resolution_clock::now();\n",
    "    addVecOnDevice<<<gridSize, blockSize>>>(d_vec1, d_vec2, d_out, n);\n",
    "    cudaDeviceSynchronize();\n",
    "    // Copy result back to host\n",
    "    cudaMemcpy(out, d_out, n * sizeof(float), cudaMemcpyDeviceToHost);\n",
    "    auto stop_device = high_resolution_clock::now();\n",
    "    auto duration_device = duration_cast<microseconds>(stop_device - start_device);\n",
    "\n",
    "    // Cleanup\n",
    "    cudaFree(d_vec1);\n",
    "    cudaFree(d_vec2);\n",
    "    cudaFree(d_out);\n",
    " \n",
    "    free(vec1);\n",
    "    free(vec2);\n",
    "    free(out);\n",
    "\n",
    "    printf(\"|%d ms\\t\\t|%d ms\\t\\t|%d ms\\t\\t|\\n\", n, duration_host.count(), duration_device.count());\n",
    "}\n",
    "\n",
    "int main()\n",
    "{\n",
    "    printf(\"|Size\\t\\t|Host\\t\\t|Device\\t|\\n\");\n",
    "    for (int i = 64; i < 100000000; i = i * 4){\n",
    "        calcTimeWithNSize(i);\n",
    "    }\n",
    "    \n",
    "    return 0;\n",
    "}\n"
   ]
  },
  {
   "cell_type": "markdown",
   "metadata": {
    "colab_type": "text",
    "id": "KBj0mTbo8JrV"
   },
   "source": [
    "# 2. Bảo cáo"
   ]
  },
  {
   "cell_type": "markdown",
   "metadata": {
    "colab_type": "text",
    "id": "g7J-PwhQ8P86"
   },
   "source": [
    "Đề cài đặt chương trình chạy trên GPU thì ta cần :\n",
    "1. Khởi tạo dữ liệu ltrên host (CPU)\n",
    "2. Khởi tạo bộ nhớ cho các biến tính toán trên device (GPU)\n",
    "3. Copy dữ liệu từ host sang device\n",
    "4. Thực hiện goi hàm tính toán trên device\n",
    "5. Sau khi thực hiện xong thì copy kết quả từ device sang host\n",
    "6. Xuất kết quả từ host"
   ]
  },
  {
   "cell_type": "markdown",
   "metadata": {
    "colab_type": "text",
    "id": "ud1A_l9M6VWo"
   },
   "source": [
    "#### Nhận xét :\n",
    "Có thể thấy khi xử lý mảng với số vector dưới 10.000 phần tử thì xử lý trên host tương đương hoặc nhanh hơn so với trên GPU, nhưng khi kích thước mảng càng lớn thì xử lý với tốc độ trên GPU sẽ nhanh hơn so với tốc độ trên GPU."
   ]
  },
  {
   "cell_type": "code",
   "execution_count": null,
   "metadata": {
    "colab": {},
    "colab_type": "code",
    "id": "3VWXOntUzduO"
   },
   "outputs": [],
   "source": []
  }
 ],
 "metadata": {
  "accelerator": "GPU",
  "colab": {
   "authorship_tag": "ABX9TyNto8CKxIMVnCre0XyIQcql",
   "collapsed_sections": [],
   "machine_shape": "hm",
   "name": "18424062.ipynb",
   "provenance": []
  },
  "kernelspec": {
   "display_name": "Python 3",
   "language": "python",
   "name": "python3"
  },
  "language_info": {
   "codemirror_mode": {
    "name": "ipython",
    "version": 3
   },
   "file_extension": ".py",
   "mimetype": "text/x-python",
   "name": "python",
   "nbconvert_exporter": "python",
   "pygments_lexer": "ipython3",
   "version": "3.7.6"
  }
 },
 "nbformat": 4,
 "nbformat_minor": 1
}
